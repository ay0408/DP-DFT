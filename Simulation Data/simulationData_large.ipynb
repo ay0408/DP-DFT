{
 "cells": [
  {
   "cell_type": "code",
   "execution_count": 1,
   "metadata": {},
   "outputs": [],
   "source": [
    "import numpy as np\n",
    "import math\n",
    "from scipy import integrate\n",
    "import matplotlib.pyplot as plt\n",
    "import random \n",
    "import time\n",
    "from scipy.stats import rankdata"
   ]
  },
  {
   "cell_type": "code",
   "execution_count": 2,
   "metadata": {},
   "outputs": [],
   "source": [
    "def TDT(n):\n",
    "    b = n[0] + n[2] + 2*n[3]\n",
    "    c = n[1] + n[2] + 2*n[4]\n",
    "    \n",
    "    if b == 0 and c == 0:\n",
    "        return 0\n",
    "    elif b == 0:\n",
    "        return 1000000000\n",
    "    else:\n",
    "        return (b-c)**2/(b+c)"
   ]
  },
  {
   "cell_type": "code",
   "execution_count": 3,
   "metadata": {},
   "outputs": [
    {
     "name": "stdout",
     "output_type": "stream",
     "text": [
      "999998\n",
      "999997\n",
      "999996\n",
      "999990\n",
      "999992\n",
      "999994\n",
      "999999\n",
      "999991\n",
      "999995\n",
      "999993\n"
     ]
    },
    {
     "data": {
      "image/png": "[encoded data removed]",
      "text/plain": [
       "<Figure size 432x288 with 1 Axes>"
      ]
     },
     "metadata": {
      "needs_background": "light"
     },
     "output_type": "display_data"
    }
   ],
   "source": [
    "N = 5000\n",
    "M = 1000000\n",
    "S = np.zeros(M)\n",
    "b = np.zeros(M)\n",
    "c = np.zeros(M)\n",
    "\n",
    "n = np.zeros((M,6))\n",
    "\n",
    "for i in range(M-10):\n",
    "    S[i] = random.randint(0,2*N)\n",
    "    b[i] = np.random.binomial(S[i],0.5)\n",
    "    c[i] = S[i] - b[i]\n",
    "    n[i][0] = b[i]\n",
    "    n[i][1] = c[i]\n",
    "    n[i][5] = 2*N - b[i] - c[i]\n",
    "\n",
    "for i in range(M-10, M):\n",
    "    S[i] = random.randint(0,2*N)\n",
    "    b[i] = np.random.binomial(S[i],0.56)\n",
    "    c[i] = S[i] - b[i]\n",
    "    n[i][0] = b[i]\n",
    "    n[i][1] = c[i]\n",
    "    n[i][5] = 2*N - b[i] - c[i]\n",
    "    \n",
    "stats = np.zeros(M)\n",
    "order = np.zeros(M)\n",
    "\n",
    "for i in range(M):\n",
    "    order[i] = i\n",
    "    if b[i] == 0 and c[i] == 0:\n",
    "        stats[i] = 0\n",
    "    else:\n",
    "        stats[i] = (b[i]-c[i])**2/(b[i]+c[i])\n",
    "\n",
    "x = np.argsort(stats)\n",
    "for i in range(10):\n",
    "    print(x[M-1-i])\n",
    "\n",
    "nn = np.zeros((M,6))\n",
    "for i in range(M):\n",
    "    nn[i] = n[x[M-1-i]]\n",
    "\n",
    "sorted_stats = sorted(stats, reverse=True)\n",
    "#print(sorted_stats)\n",
    "\n",
    "fig = plt.figure()\n",
    "plt.ylim(-1, max(stats)+2)\n",
    "plt.xlim(-2, 102)\n",
    "plt.plot(order, sorted_stats, marker=\"o\", markersize=2, color = \"red\", linestyle = \"None\")\n",
    "plt.axhline(29.7, color = \"black\", linestyle = \"-.\")\n",
    "plt.xlabel(\"rank\", fontsize = 18)\n",
    "plt.ylabel(\"TDT statistic\", fontsize = 18)\n",
    "fig.savefig(\"stats_large.png\")\n",
    "fig.savefig(\"figs/stats_large.eps\")"
   ]
  },
  {
   "cell_type": "code",
   "execution_count": null,
   "metadata": {},
   "outputs": [],
   "source": []
  }
 ],
 "metadata": {
  "kernelspec": {
   "display_name": "Python 3",
   "language": "python",
   "name": "python3"
  },
  "language_info": {
   "codemirror_mode": {
    "name": "ipython",
    "version": 3
   },
   "file_extension": ".py",
   "mimetype": "text/x-python",
   "name": "python",
   "nbconvert_exporter": "python",
   "pygments_lexer": "ipython3",
   "version": "3.8.3"
  }
 },
 "nbformat": 4,
 "nbformat_minor": 4
}
